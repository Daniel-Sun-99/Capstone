{
 "cells": [
  {
   "cell_type": "code",
   "execution_count": 1,
   "id": "7bb24b37-d2d7-46f9-976a-2156d3ffa94c",
   "metadata": {},
   "outputs": [],
   "source": [
    "import matplotlib.pyplot as plt\n",
    "import numpy as np\n",
    "import pandas as pd\n",
    "import pydicom\n",
    "import pickle\n",
    "import tensorflow as tf\n",
    "import tensorflow_io as tfio\n",
    "import os\n",
    "import sys\n",
    "\n",
    "sys.path.insert(0, '../VisualizationTools')\n",
    "import get_data_from_XML, get_gt, getUID, roi2rect, utils, visualization"
   ]
  },
  {
   "cell_type": "code",
   "execution_count": 13,
   "id": "b6864797-653e-4dbd-8391-73246fa73b72",
   "metadata": {
    "collapsed": true,
    "jupyter": {
     "outputs_hidden": true
    },
    "tags": []
   },
   "outputs": [
    {
     "name": "stdout",
     "output_type": "stream",
     "text": [
      "[name: \"/device:CPU:0\"\n",
      "device_type: \"CPU\"\n",
      "memory_limit: 268435456\n",
      "locality {\n",
      "}\n",
      "incarnation: 15379422606401399034\n",
      "xla_global_id: -1\n",
      ", name: \"/device:GPU:0\"\n",
      "device_type: \"GPU\"\n",
      "memory_limit: 6943080448\n",
      "locality {\n",
      "  bus_id: 1\n",
      "  links {\n",
      "  }\n",
      "}\n",
      "incarnation: 15873993765919812260\n",
      "physical_device_desc: \"device: 0, name: NVIDIA GeForce GTX 1070 Ti, pci bus id: 0000:01:00.0, compute capability: 6.1\"\n",
      "xla_global_id: 416903419\n",
      "]\n",
      "Device mapping:\n",
      "/job:localhost/replica:0/task:0/device:GPU:0 -> device: 0, name: NVIDIA GeForce GTX 1070 Ti, pci bus id: 0000:01:00.0, compute capability: 6.1\n",
      "\n"
     ]
    }
   ],
   "source": [
    "## GPU tensorflow check\n",
    "tf.test.is_built_with_cuda()\n",
    "\n",
    "from tensorflow.python.client import device_lib\n",
    "print(device_lib.list_local_devices())\n",
    "\n",
    "sess = tf.compat.v1.Session(config=tf.compat.v1.ConfigProto(log_device_placement=True))"
   ]
  },
  {
   "cell_type": "code",
   "execution_count": 16,
   "id": "dd8c9691-af78-4971-acee-5dd735785e84",
   "metadata": {},
   "outputs": [],
   "source": [
    "# image_bytes = tf.io.read_file('../images/1-01.dcm')\n",
    "\n",
    "# image = tfio.image.decode_dicom_image(image_bytes, dtype=tf.uint16)\n",
    "\n",
    "# skipped = tfio.image.decode_dicom_image(image_bytes, on_error='skip', dtype=tf.uint8)\n",
    "\n",
    "# lossy_image = tfio.image.decode_dicom_image(image_bytes, scale='auto', on_error='lossy', dtype=tf.uint8)\n",
    "\n",
    "# fig, axes = plt.subplots(1,2, figsize=(10,10))\n",
    "# axes[0].imshow(np.squeeze(image.numpy()), cmap='gray')\n",
    "# axes[0].set_title('image')\n",
    "# axes[1].imshow(np.squeeze(lossy_image.numpy()), cmap='gray')\n",
    "# axes[1].set_title('lossy image');\n",
    "\n",
    "# tag_id = tfio.image.dicom_tags.PatientsSex\n",
    "# tag_value = tfio.image.decode_dicom_data(image_bytes,tag_id)\n",
    "# print(tag_value)\n",
    "\n",
    "# print(f\"PatientsAge : {tag_value.numpy().decode('UTF-8')}\")\n",
    "\n",
    "# pydicomimage = pydicom.dcmread('../images/1-01.dcm')\n",
    "\n",
    "# pydicomimage\n",
    "\n",
    "# pixels = pydicomimage.pixel_array\n",
    "\n",
    "# print(\"Pixel range: \" + str(np.amin(pixels)) + \" - \" + str(np.amax(pixels)))\n",
    "# plt.imshow(pixels,cmap=\"gray\")\n",
    "\n",
    "# inputfolder = '../images/2.000000-ThoraxRoutine  8.0.0  B70f-62919'\n",
    "# patients = os.listdir(inputfolder)\n",
    "\n",
    "# slices = [tf.io.read_file(inputfolder + '/' + file) for file in patients]\n",
    "\n",
    "# slices = [tfio.image.decode_dicom_image(myslice, dtype=tf.uint16) for myslice in slices]"
   ]
  },
  {
   "cell_type": "code",
   "execution_count": 17,
   "id": "afc14b11-ed70-4583-ab0a-d093ad33bf84",
   "metadata": {},
   "outputs": [],
   "source": [
    "# fig, axes = plt.subplots(5, 6 ,figsize=(100,100))\n",
    "# idx = 0\n",
    "\n",
    "# for i in range(0,5):\n",
    "#     for y in range(0,6):\n",
    "#         axes[i][y].imshow(np.squeeze(slices[idx].numpy()), cmap='gray')\n",
    "#         axes[i][y].set_title('image')\n",
    "#         idx+=1"
   ]
  },
  {
   "cell_type": "code",
   "execution_count": 9,
   "id": "e146d1a8-9302-4b85-89a8-3f4256524196",
   "metadata": {},
   "outputs": [],
   "source": [
    "dcmpath = '../images/Lung-PET-CT-DX/'\n",
    "annotpath = '../annot/Annotation/'"
   ]
  },
  {
   "cell_type": "code",
   "execution_count": 10,
   "id": "c80be3f9-c1dc-4af8-b352-0c80fc92b305",
   "metadata": {},
   "outputs": [],
   "source": [
    "annotFileNames = os.listdir(annotpath)[:20]\n",
    "dcmFileNames = os.listdir(dcmpath)\n",
    "num_classes = 4"
   ]
  },
  {
   "cell_type": "code",
   "execution_count": 11,
   "id": "93e9851e-235a-4dc6-bdcc-f0d8b5803138",
   "metadata": {},
   "outputs": [
    {
     "name": "stdout",
     "output_type": "stream",
     "text": [
      "missing:  ../images/Lung-PET-CT-DX/Lung_Dx-A0001\n",
      "[[134. 274. 216. 338.   1.   0.   0.   0.]]\n",
      "1-17.dcm [[3 3 2 ... 2 2 3]\n",
      " [3 3 3 ... 2 3 3]\n",
      " [2 3 3 ... 3 3 3]\n",
      " ...\n",
      " [3 2 3 ... 2 2 2]\n",
      " [3 3 3 ... 1 2 2]\n",
      " [3 3 3 ... 1 1 1]]\n"
     ]
    },
    {
     "ename": "error",
     "evalue": "OpenCV(4.6.0) D:\\a\\opencv-python\\opencv-python\\opencv\\modules\\highgui\\src\\window_w32.cpp:1261: error: (-27:Null pointer) NULL window: '1-17.dcm' in function 'cvDestroyWindow'\n",
     "output_type": "error",
     "traceback": [
      "\u001b[1;31m---------------------------------------------------------------------------\u001b[0m",
      "\u001b[1;31merror\u001b[0m                                     Traceback (most recent call last)",
      "\u001b[1;32mC:\\Users\\DANIEL~1\\AppData\\Local\\Temp/ipykernel_35100/1278407221.py\u001b[0m in \u001b[0;36m<module>\u001b[1;34m\u001b[0m\n\u001b[0;32m     17\u001b[0m         \u001b[0mprint\u001b[0m\u001b[1;33m(\u001b[0m\u001b[0mv\u001b[0m\u001b[1;33m)\u001b[0m\u001b[1;33m\u001b[0m\u001b[1;33m\u001b[0m\u001b[0m\n\u001b[0;32m     18\u001b[0m         \u001b[0mprint\u001b[0m\u001b[1;33m(\u001b[0m\u001b[0mdcm_name\u001b[0m\u001b[1;33m,\u001b[0m \u001b[0mimg_bitmap\u001b[0m\u001b[1;33m)\u001b[0m\u001b[1;33m\u001b[0m\u001b[1;33m\u001b[0m\u001b[0m\n\u001b[1;32m---> 19\u001b[1;33m         \u001b[0mtest\u001b[0m \u001b[1;33m=\u001b[0m \u001b[0mroi2rect\u001b[0m\u001b[1;33m.\u001b[0m\u001b[0mroi2rect\u001b[0m\u001b[1;33m(\u001b[0m\u001b[0mimg_name\u001b[0m \u001b[1;33m=\u001b[0m \u001b[0mdcm_name\u001b[0m\u001b[1;33m,\u001b[0m \u001b[0mimg_np\u001b[0m \u001b[1;33m=\u001b[0m \u001b[0mimg_bitmap\u001b[0m\u001b[1;33m,\u001b[0m \u001b[0mimg_data\u001b[0m \u001b[1;33m=\u001b[0m \u001b[0mv\u001b[0m\u001b[1;33m,\u001b[0m \u001b[0mlabel_list\u001b[0m \u001b[1;33m=\u001b[0m \u001b[1;33m[\u001b[0m\u001b[1;34m'A'\u001b[0m\u001b[1;33m,\u001b[0m \u001b[1;34m'B'\u001b[0m\u001b[1;33m,\u001b[0m \u001b[1;34m'C'\u001b[0m\u001b[1;33m,\u001b[0m \u001b[1;34m'D'\u001b[0m\u001b[1;33m]\u001b[0m\u001b[1;33m)\u001b[0m\u001b[1;33m\u001b[0m\u001b[1;33m\u001b[0m\u001b[0m\n\u001b[0m\u001b[0;32m     20\u001b[0m         \u001b[1;32mbreak\u001b[0m\u001b[1;33m\u001b[0m\u001b[1;33m\u001b[0m\u001b[0m\n\u001b[0;32m     21\u001b[0m     \u001b[1;32mbreak\u001b[0m\u001b[1;33m\u001b[0m\u001b[1;33m\u001b[0m\u001b[0m\n",
      "\u001b[1;32m~\\desktop\\DanielSunDSI\\capstone\\Capstone\\code\\../VisualizationTools\\roi2rect.py\u001b[0m in \u001b[0;36mroi2rect\u001b[1;34m(img_name, img_np, img_data, label_list)\u001b[0m\n\u001b[0;32m     62\u001b[0m     \u001b[1;31m# cv2.destroyWindow(img_name)\u001b[0m\u001b[1;33m\u001b[0m\u001b[1;33m\u001b[0m\u001b[0m\n\u001b[0;32m     63\u001b[0m \u001b[1;33m\u001b[0m\u001b[0m\n\u001b[1;32m---> 64\u001b[1;33m     \u001b[0mshowImage\u001b[0m\u001b[1;33m(\u001b[0m\u001b[0mimg\u001b[0m\u001b[1;33m=\u001b[0m\u001b[0mimg_np\u001b[0m\u001b[1;33m,\u001b[0m \u001b[0mtitle\u001b[0m\u001b[1;33m=\u001b[0m\u001b[0mimg_name\u001b[0m\u001b[1;33m)\u001b[0m\u001b[1;33m\u001b[0m\u001b[1;33m\u001b[0m\u001b[0m\n\u001b[0m",
      "\u001b[1;32m~\\desktop\\DanielSunDSI\\capstone\\Capstone\\code\\../VisualizationTools\\roi2rect.py\u001b[0m in \u001b[0;36mshowImage\u001b[1;34m(img, title, t, esc)\u001b[0m\n\u001b[0;32m     11\u001b[0m     \u001b[1;32melse\u001b[0m\u001b[1;33m:\u001b[0m\u001b[1;33m\u001b[0m\u001b[1;33m\u001b[0m\u001b[0m\n\u001b[0;32m     12\u001b[0m         \u001b[0mcv2\u001b[0m\u001b[1;33m.\u001b[0m\u001b[0mwaitKey\u001b[0m\u001b[1;33m(\u001b[0m\u001b[0mt\u001b[0m\u001b[1;33m)\u001b[0m\u001b[1;33m\u001b[0m\u001b[1;33m\u001b[0m\u001b[0m\n\u001b[1;32m---> 13\u001b[1;33m     \u001b[0mcv2\u001b[0m\u001b[1;33m.\u001b[0m\u001b[0mdestroyWindow\u001b[0m\u001b[1;33m(\u001b[0m\u001b[0mtitle\u001b[0m\u001b[1;33m)\u001b[0m\u001b[1;33m\u001b[0m\u001b[1;33m\u001b[0m\u001b[0m\n\u001b[0m\u001b[0;32m     14\u001b[0m \u001b[1;33m\u001b[0m\u001b[0m\n\u001b[0;32m     15\u001b[0m \u001b[1;33m\u001b[0m\u001b[0m\n",
      "\u001b[1;31merror\u001b[0m: OpenCV(4.6.0) D:\\a\\opencv-python\\opencv-python\\opencv\\modules\\highgui\\src\\window_w32.cpp:1261: error: (-27:Null pointer) NULL window: '1-17.dcm' in function 'cvDestroyWindow'\n"
     ]
    }
   ],
   "source": [
    "for annot in annotFileNames:\n",
    "    anpath = annotpath + annot\n",
    "    dicompath = dcmpath + 'Lung_Dx-' + annot\n",
    "    if not os.path.isdir(dicompath):\n",
    "        print(\"missing: \", dicompath)\n",
    "        continue\n",
    "    lungs = getUID.getUID_path(dicompath)\n",
    "    annotations = get_data_from_XML.XML_preprocessor(anpath, num_classes=num_classes).data\n",
    "    for k, v in annotations.items():\n",
    "        key = k[:-4]\n",
    "        if key not in lungs:\n",
    "            print(\"missing key: \", k)\n",
    "            continue\n",
    "        dcm_path, dcm_name = lungs[k[:-4]]\n",
    "        matrix, frame_num, width, height, ch = utils.loadFile(dcm_path)\n",
    "        img_bitmap = utils.MatrixToImage(matrix[0], ch)\n",
    "        print(v)\n",
    "        print(dcm_name, img_bitmap)\n",
    "        test = roi2rect.roi2rect(img_name = dcm_name, img_np = img_bitmap, img_data = v, label_list = ['A', 'B', 'C', 'D'])\n",
    "        break\n",
    "    break"
   ]
  },
  {
   "cell_type": "code",
   "execution_count": null,
   "id": "e43b7eb2-d964-419e-86fc-e1acb1d8966d",
   "metadata": {},
   "outputs": [],
   "source": []
  }
 ],
 "metadata": {
  "kernelspec": {
   "display_name": "Python 3 (ipykernel)",
   "language": "python",
   "name": "python3"
  },
  "language_info": {
   "codemirror_mode": {
    "name": "ipython",
    "version": 3
   },
   "file_extension": ".py",
   "mimetype": "text/x-python",
   "name": "python",
   "nbconvert_exporter": "python",
   "pygments_lexer": "ipython3",
   "version": "3.9.7"
  }
 },
 "nbformat": 4,
 "nbformat_minor": 5
}
